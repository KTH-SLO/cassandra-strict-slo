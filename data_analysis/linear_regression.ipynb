{
 "cells": [
  {
   "cell_type": "code",
   "execution_count": 2,
   "metadata": {},
   "outputs": [
    {
     "name": "stdout",
     "output_type": "stream",
     "text": [
      "7\n",
      "11\n",
      "((371.5, 28.25, 19.5, 0.25), 1500)\n",
      "(1487.5661781003482, 32495)\n"
     ]
    }
   ],
   "source": [
    "from get_all_metrics import get_metrics\n",
    "import compile_benchmark_metrics\n",
    "\n",
    "# RANGE = range(2500, 5000, 500)\n",
    "# PERCENTILE = '99'\n",
    "# FILENAME = '../results/phase3_final_400000ops_'\n",
    "# TH_RANGE = list(range(4, 26, 3))\n",
    "\n",
    "RANGE = list(range(1500, 5000, 500))\n",
    "PERCENTILE = '99.9'\n",
    "FILENAME = '../results/phase3_final_1000000ops_'\n",
    "TH_RANGE = list(range(4, 35, 3))\n",
    "\n",
    "# RANGE = list(range(1500, 5000, 500))\n",
    "# PERCENTILE = '80'\n",
    "# FILENAME = '../results/phase3_final_1000000ops_'\n",
    "# TH_RANGE = list(range(4, 35, 3))\n",
    "\n",
    "print(len(RANGE))\n",
    "print(len(TH_RANGE))\n",
    "\n",
    "# Get performance data for all load for a sigle threshold\n",
    "def get_performance_for_threshold(threshold):\n",
    "    data_list = []\n",
    "    for load in RANGE:\n",
    "        node_data = list(get_metrics(FILENAME+str(threshold)+\"_\" + str(load)))\n",
    "        data = compile_benchmark_metrics.get_statistics(node_data)\n",
    "        data_list.append((data, load))\n",
    "    return data_list\n",
    "\n",
    "def get_throughput_and_percentile(percentile, filename):\n",
    "    file = open(filename, \"r\")\n",
    "    lines = list(map(lambda line: line.rstrip('\\n'), file.readlines()))\n",
    "    \n",
    "    latency_line = [line for line in lines if line.find(\"[READ], \" + percentile) != -1][0]\n",
    "    throughput_line = [line for line in lines if line.find(\"Throughput(ops/sec)\") != -1][0]\n",
    "    \n",
    "    latency = latency_line.split()[-1]\n",
    "    throughput = throughput_line.split()[-1]\n",
    "    return latency, throughput\n",
    "\n",
    "# Return tuple with the real throughput from ycsb and the latency from ycsb\n",
    "def get_latency_tuple(load, threshold, filename_prefix = FILENAME):\n",
    "    filename = filename_prefix + str(threshold) + \"_\" + str(load)\n",
    "    latency, throughput = get_throughput_and_percentile(PERCENTILE, filename)\n",
    "    return (float(throughput), int(latency))\n",
    "\n",
    "# Get all the tuples\n",
    "def get_latencies_for_threshold(threshold = 1, filename_prefix = FILENAME):\n",
    "    return list(map(lambda load: get_latency_tuple(load, threshold, filename_prefix), RANGE))\n",
    "\n",
    "print (get_performance_for_threshold(1)[0])\n",
    "print (get_latencies_for_threshold(1)[0])"
   ]
  },
  {
   "cell_type": "code",
   "execution_count": 11,
   "metadata": {},
   "outputs": [
    {
     "data": {
      "text/plain": [
       "(((367.125, 19.25), 1500), 4, 34015)"
      ]
     },
     "execution_count": 11,
     "metadata": {},
     "output_type": "execute_result"
    }
   ],
   "source": [
    "# Get files for a threshold. \n",
    "# Both file with performance and latency and add them\n",
    "def get_all_for_threshold(threshold):\n",
    "    performance_data = get_performance_for_threshold(threshold)\n",
    "    latency_data = get_latencies_for_threshold(threshold)\n",
    "    \n",
    "    \n",
    "    return [(p, latency) for (p, (_th, latency)) in zip(performance_data, latency_data)]\n",
    "    \n",
    "# Do this for every threshold and make one list of them\n",
    "def get_all_data():\n",
    "    all_data = []\n",
    "    for th in TH_RANGE:\n",
    "        d = get_all_for_threshold(th)\n",
    "        l = zip(d, [th] * len(d))\n",
    "        all_data.extend(l)\n",
    "    return all_data\n",
    "\n",
    "# [(x, y, weight) for ((x, weight), y) in get_all_data()][0]\n",
    "[(((x[0], x[2]), x_target), y, weight) for (((x, x_target), weight), y) in get_all_data()][0]\n",
    "\n",
    "# (((492.375, 72.921875, 25.25, 0.6875), 2000), 4, 44319)\n",
    "# (((read_throughput, read_variance, write_throughput, write_variance), target_load), speculative_threshold, latency_by_ycsb)"
   ]
  },
  {
   "cell_type": "code",
   "execution_count": 13,
   "metadata": {},
   "outputs": [
    {
     "name": "stdout",
     "output_type": "stream",
     "text": [
      "(367.125, 19.25)\n",
      "1500\n",
      "4\n",
      "0.30466456906535483\n"
     ]
    }
   ],
   "source": [
    "from sklearn.preprocessing import MinMaxScaler\n",
    "import itertools\n",
    "import numpy as np\n",
    "\n",
    "# Extract data and scale it to something reasonable\n",
    "def get_scaled_data():\n",
    "    # Getting and extracing the data vector\n",
    "#     data = [(x, y, weight) for ((x, weight), y) in get_all_data()]\n",
    "    data = [(((x[0], x[2]), x_target), y, weight) for (((x, x_target), weight), y) in get_all_data()]\n",
    "    x, y, weight = zip(*itertools.chain(data))\n",
    "\n",
    "    def weight_transformer(v):\n",
    "        return (1 - v)**5\n",
    "\n",
    "    # Scaling weights. MinMax gives 0 for the lowest and 1 for the highest. Linear\n",
    "    # I apply the weight_transformer() to give higher weights to those elements that really matter.\n",
    "    scaler = MinMaxScaler()\n",
    "    scaler.fit(np.asarray(weight).reshape(-1, 1))\n",
    "    s_weight = scaler.transform(np.asarray(weight).reshape(-1, 1))\n",
    "    s_weight = [weight_transformer(e[0]) for e in s_weight]\n",
    "\n",
    "    # Extracting the load vs target load\n",
    "    x_target = [target for (_x, target) in x]\n",
    "    x_load = [x for (x, _target) in x]\n",
    "    \n",
    "    return (x_load, x_target, y, s_weight)\n",
    "\n",
    "x, x_target, y, w = get_scaled_data()\n",
    "print(x[0])\n",
    "print(x_target[0])\n",
    "print(y[0])\n",
    "print(w[0])"
   ]
  },
  {
   "cell_type": "code",
   "execution_count": 16,
   "metadata": {},
   "outputs": [
    {
     "name": "stdout",
     "output_type": "stream",
     "text": [
      "10.126696047518962\n",
      "[-0.11445425  2.36446206]\n"
     ]
    },
    {
     "data": {
      "text/plain": [
       "<matplotlib.collections.PathCollection at 0x7faf306ae908>"
      ]
     },
     "execution_count": 16,
     "metadata": {},
     "output_type": "execute_result"
    },
    {
     "data": {
      "image/png": "[encoded data removed]",
      "text/plain": [
       "<Figure size 432x288 with 1 Axes>"
      ]
     },
     "metadata": {
      "needs_background": "light"
     },
     "output_type": "display_data"
    }
   ],
   "source": [
    "from sklearn.linear_model import LinearRegression\n",
    "import matplotlib.pyplot as plt\n",
    "\n",
    "# Getting the data and fitting it to the linear regression\n",
    "x, x_target, y, w = get_scaled_data()\n",
    "model = LinearRegression()\n",
    "# We make the model between cassandra performance x and sr threshold\n",
    "# The way it works is by weighting the points by how good they are in terms of latency\n",
    "# There are points everywhere with this, but only those with low latency really\n",
    "# count towards the regression. Look at the bottom for a quick look at the data.\n",
    "reg = model.fit(np.asarray(x), np.asarray(y), sample_weight=np.asarray(w))\n",
    "\n",
    "print(reg.intercept_)\n",
    "print(reg.coef_)\n",
    "\n",
    "# Creating predictions based on the same values as we trained model\n",
    "# Plot the prediction for those values against the probable load of the system\n",
    "# (target load of ycsb)\n",
    "predictions = list(reg.predict(np.array(x)))\n",
    "plt.scatter(x_target, predictions, color='r')\n",
    "\n",
    "# with open('linear_regression.csv', 'w') as f:\n",
    "#     f.write(\"taget, prediction\\n\")\n",
    "    \n",
    "#     for target, prediction in zip(x_target, predictions):\n",
    "#         f.write(str(target) + \", \" + str(prediction) + \"\\n\")"
   ]
  },
  {
   "cell_type": "code",
   "execution_count": 15,
   "metadata": {},
   "outputs": [
    {
     "data": {
      "image/png": "[encoded data removed]",
      "text/plain": [
       "<Figure size 432x288 with 1 Axes>"
      ]
     },
     "metadata": {
      "needs_background": "light"
     },
     "output_type": "display_data"
    }
   ],
   "source": [
    "from sklearn.preprocessing import MinMaxScaler\n",
    "import matplotlib.pyplot as plt\n",
    "import numpy as np\n",
    "\n",
    "# Example curve of the scaling\n",
    "\n",
    "def plot_scaling_curve():\n",
    "    y_range = list(range(20000, 40000, 1000))\n",
    "    \n",
    "    def weight_transformer(v):\n",
    "            return (1 - v)**5\n",
    "\n",
    "    # Scaling weights. MinMax gives 0 for the lowest and 1 for the highest. Linear\n",
    "    # I apply the weight_transformer() to give higher weights to those elements that really matter.\n",
    "    scaler = MinMaxScaler()\n",
    "    scaler.fit(np.asarray(y_range).reshape(-1, 1))\n",
    "    s_weight = scaler.transform(np.asarray(y_range).reshape(-1, 1))\n",
    "    s_weight = [weight_transformer(e[0]) for e in s_weight]\n",
    "    \n",
    "    with open(\"scaling-points.csv\", \"w\") as f:\n",
    "        f.write(\"x, y\\n\")\n",
    "        for x, y in zip(y_range, s_weight):\n",
    "            f.write(str(x) + \", \" + str(y) + \"\\n\")\n",
    "    \n",
    "    plt.scatter(y_range, s_weight, color='r')\n",
    "    \n",
    "# We can see that values which has low latency are important (we want to predict that this is good)\n",
    "# while the large values are not very important.\n",
    "plot_scaling_curve()"
   ]
  },
  {
   "cell_type": "code",
   "execution_count": 70,
   "metadata": {},
   "outputs": [
    {
     "data": {
      "image/png": "[encoded data removed]",
      "text/plain": [
       "<Figure size 432x288 with 1 Axes>"
      ]
     },
     "metadata": {
      "needs_background": "light"
     },
     "output_type": "display_data"
    }
   ],
   "source": [
    "# This is basically what the data looks like before the regression (just dropping 3 out of four regressions)\n",
    "# this is expected as it only shows all the benchmark we ran. Instead we make the regression by\n",
    "# basing it on the importance of certain dots (how low latency they have.)\n",
    "\n",
    "def distribution_between_x_and_y():\n",
    "    x, x_target, y, w = get_scaled_data()\n",
    "    X = [e[0] for e in x]\n",
    "    plt.scatter(y, X, color='r')\n",
    "    \n",
    "distribution_between_x_and_y()"
   ]
  },
  {
   "cell_type": "code",
   "execution_count": 19,
   "metadata": {},
   "outputs": [
    {
     "data": {
      "image/png": "[encoded data removed]",
      "text/plain": [
       "<Figure size 432x288 with 2 Axes>"
      ]
     },
     "metadata": {
      "needs_background": "light"
     },
     "output_type": "display_data"
    }
   ],
   "source": [
    "# This can be visualized with a heatmap\n",
    "import itertools\n",
    "import numpy as np\n",
    "import matplotlib.pyplot as p\n",
    "\n",
    "\n",
    "def get_heatmap_data():\n",
    "    def get_list_for_threshold (threshold): \n",
    "        latencies = get_latencies_for_threshold(threshold)\n",
    "\n",
    "        thresholds = [threshold] * len(latencies)\n",
    "\n",
    "        values = [\n",
    "            (x, y, z) for ((x, z), y) in zip(latencies, thresholds)\n",
    "        ]\n",
    "\n",
    "        return values\n",
    "\n",
    "    big_list = []\n",
    "    for i in TH_RANGE:\n",
    "        big_list.append(get_list_for_threshold(i))\n",
    "\n",
    "    X, Y, Z = zip(*itertools.chain(*big_list))\n",
    "\n",
    "\n",
    "    X = np.array(list(X))\n",
    "    Y = np.array(list(Y))\n",
    "    Z = np.array(list(Z))\n",
    "\n",
    "    color_map = []\n",
    "\n",
    "    for i in range(len(big_list[0])):\n",
    "        z = []\n",
    "        for elem in big_list:\n",
    "            _e1, _e2, e3 = elem[i]\n",
    "            z.append(e3)\n",
    "        color_map.append(z)\n",
    "    \n",
    "    return color_map\n",
    "\n",
    "%matplotlib inline\n",
    "p.imshow(get_heatmap_data(),interpolation='none',cmap=p.cm.jet,origin='lower')  \n",
    "# many other colormaps can be seen here: http://matplotlib.org/examples/color/colormaps_reference.html\n",
    "p.colorbar()\n",
    "\n",
    "with open('heatmap.csv', 'w') as f:\n",
    "    f.write(\"load, \")\n",
    "    \n",
    "    iteration = 1;\n",
    "    for threshold in TH_RANGE:\n",
    "        f.write(str(threshold))\n",
    "        if iteration < len(TH_RANGE):\n",
    "            f.write(\", \")\n",
    "            \n",
    "        iteration += 1\n",
    "        \n",
    "    f.write(\"\\n\")\n",
    "    \n",
    "    load_it = 0\n",
    "    for load_line in get_heatmap_data():\n",
    "        iteration = 1;\n",
    "        f.write(str(RANGE[load_it]) + \", \")\n",
    "        for sr_threshold in load_line:\n",
    "            f.write(str(sr_threshold))\n",
    "            if iteration < len(TH_RANGE):\n",
    "                f.write(\", \")\n",
    "                \n",
    "            iteration += 1\n",
    "            \n",
    "        f.write(\"\\n\")\n",
    "        load_it += 1\n",
    "\n",
    "\n",
    "# The x axis is all the thresholds we are running, y is all the loads we are trying and\n",
    "# the color represents the latency.\n",
    "# this is relatively similar to the graph above but with colors/latencies"
   ]
  },
  {
   "cell_type": "code",
   "execution_count": null,
   "metadata": {},
   "outputs": [],
   "source": []
  }
 ],
 "metadata": {
  "kernelspec": {
   "display_name": "env-jit",
   "language": "python",
   "name": "env-jit"
  },
  "language_info": {
   "codemirror_mode": {
    "name": "ipython",
    "version": 3
   },
   "file_extension": ".py",
   "mimetype": "text/x-python",
   "name": "python",
   "nbconvert_exporter": "python",
   "pygments_lexer": "ipython3",
   "version": "3.6.8"
  }
 },
 "nbformat": 4,
 "nbformat_minor": 2
}
